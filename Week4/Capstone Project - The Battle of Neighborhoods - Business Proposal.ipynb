{
 "cells": [
  {
   "cell_type": "markdown",
   "metadata": {},
   "source": [
    "# Capstone Project - The Battle of Neighbourhoods (Part-1)"
   ]
  },
  {
   "cell_type": "markdown",
   "metadata": {},
   "source": [
    "### Introduction:"
   ]
  },
  {
   "cell_type": "markdown",
   "metadata": {},
   "source": [
    "The cuisine of Toronto reflects Toronto's size and multicultural diversity. Different ethnic neighbourhoods throughout the city focus on specific cuisines, such as authentic Chinese and Vietnamese found in the city's Chinatowns, Korean in Koreatown, Greek on The Danforth, Italian cuisine in Little Italy and Corso Italia, and Indian/Pakistani in Little India. Numerous other world cuisines are available throughout the city, including Portuguese, Hungarian, Japanese, and Caribbean. Toronto's large Jewish population has also ensured a variety of Jewish restaurants and delis, with varying adherence to kosher rules. In addition to ethnic cuisines, Toronto is also home to many fine dining establishments and chain restaurants ranging from fast food to casual or upscale dining.\n",
    "\n",
    "Toronto has also been a major point of entry for immigrants; the term \"melting pot\"\n",
    "was coined to describe densely populated immigrant neighbourhoods.English remains the most widely spoken language, although there are areas in the outer boroughs in which up to 25% of people speak English as an alternate language,\n",
    "and/or have limited or no English language fluency. With its diverse culture, comes diverse food items. There are many restaurants in Toronto, each belonging to different categories like Chinese, Indian, and French etc."
   ]
  },
  {
   "cell_type": "markdown",
   "metadata": {},
   "source": [
    "### Problem:"
   ]
  },
  {
   "cell_type": "markdown",
   "metadata": {},
   "source": [
    "To find the answers to the following questions:\n",
    "- List and visualize all major parts of Toronto that has great Indian restaurants.\n",
    "- What is best location in Toronto for Indian Cuisine?\n",
    "- Which areas have potential Indian Restaurant Market?\n",
    "- Which all areas lack Indian Restaurants?\n",
    "- Which is the best place to stay if you prefer Indian Cuisine?"
   ]
  }
 ],
 "metadata": {
  "kernelspec": {
   "display_name": "Python 3",
   "language": "python",
   "name": "python3"
  },
  "language_info": {
   "codemirror_mode": {
    "name": "ipython",
    "version": 3
   },
   "file_extension": ".py",
   "mimetype": "text/x-python",
   "name": "python",
   "nbconvert_exporter": "python",
   "pygments_lexer": "ipython3",
   "version": "3.7.4"
  }
 },
 "nbformat": 4,
 "nbformat_minor": 2
}
