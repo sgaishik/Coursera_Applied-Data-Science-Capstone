{
 "cells": [
  {
   "cell_type": "markdown",
   "metadata": {},
   "source": [
    "# Capstone Project - The Battle of Neighbourhoods (Part-1)"
   ]
  },
  {
   "cell_type": "markdown",
   "metadata": {},
   "source": [
    "### Data Section:"
   ]
  },
  {
   "cell_type": "markdown",
   "metadata": {},
   "source": [
    "Toronto's demographics show that it is a large and ethnically diverse metropolis. With \n",
    "its diverse culture, comes diverse food items. There are many restaurants in Toronto, \n",
    "each belonging to different categories like Chinese, Vietnamese, Indian, Pakistani, French and Italian."
   ]
  },
  {
   "cell_type": "markdown",
   "metadata": {},
   "source": [
    "Toronto data that contains list Boroughs, Neighbourhoods along with their \n",
    "latitude and longitude.\n",
    "- Data source : https://en.wikipedia.org/wiki/List_of_postal_codes_of_Canada:_M\n",
    "- Description: This data set contains the required information. And we will use this data \n",
    "set to explore various neighbourhoods of New York City"
   ]
  },
  {
   "cell_type": "markdown",
   "metadata": {},
   "source": [
    "Indian restaurants in each neighbourhood of Toronto. \n",
    "- Data source : Foursquare API\n",
    "- Description: By using this API we will get all the venues in each neighbourhood. We can filter these venues to get only Indian restaurants."
   ]
  },
  {
   "cell_type": "markdown",
   "metadata": {},
   "source": [
    "GeoSpace data\n",
    "- Data source : https://www.toronto.ca/city-government/data-research-maps/open-data/\n",
    "- Description: By using this geo space data we will get the Toronto Borough boundaries that will help us visualize choropleth map."
   ]
  }
 ],
 "metadata": {
  "kernelspec": {
   "display_name": "Python 3",
   "language": "python",
   "name": "python3"
  },
  "language_info": {
   "codemirror_mode": {
    "name": "ipython",
    "version": 3
   },
   "file_extension": ".py",
   "mimetype": "text/x-python",
   "name": "python",
   "nbconvert_exporter": "python",
   "pygments_lexer": "ipython3",
   "version": "3.7.4"
  }
 },
 "nbformat": 4,
 "nbformat_minor": 2
}
