{
 "cells": [
  {
   "cell_type": "markdown",
   "metadata": {},
   "source": [
    "# Capstone Project - The Battle of Neighbourhoods (Part-1) - Data Description"
   ]
  },
  {
   "cell_type": "markdown",
   "metadata": {},
   "source": [
    "### Data Section:"
   ]
  },
  {
   "cell_type": "markdown",
   "metadata": {},
   "source": [
    "New York City's demographics show that it is a large and ethnically diverse metropolis. With its diverse culture, comes diverse food items. There are many restaurants in New York City, each belonging to different categories like Chinese, Indian, and French etc.\n",
    "\n",
    "For this project we need the following data:"
   ]
  },
  {
   "cell_type": "markdown",
   "metadata": {},
   "source": [
    "New York City data that contains list Boroughs, Neighbourhoods along with their latitude and longitude.\n",
    "- Data source : https://cocl.us/new_york_dataset\n",
    "- Description: This data set contains the required information in JSON format. And we will use this data set to explore various neighbourhoods of New York City.\n",
    "- Fields - Feature type, geometry of the feature , coordinates of the feature, name, borough, neighborhood and bounding box coordinates."
   ]
  },
  {
   "cell_type": "markdown",
   "metadata": {},
   "source": [
    "Indian restaurants in each neighbourhood of New York City. \n",
    "- Data source : Foursquare API\n",
    "- Description : By using this API we will get all the venues in each neighbourhood. We can filter these venues to get only Indian restaurants."
   ]
  },
  {
   "cell_type": "markdown",
   "metadata": {},
   "source": [
    "We have already come across the FourSquare API, so nothing new to explain as we need to link the coordinates data from New York City dataset with the API and get the neighborhood details to explore the influence of Indian restaurants in the vicinity."
   ]
  }
 ],
 "metadata": {
  "kernelspec": {
   "display_name": "Python 3",
   "language": "python",
   "name": "python3"
  },
  "language_info": {
   "codemirror_mode": {
    "name": "ipython",
    "version": 3
   },
   "file_extension": ".py",
   "mimetype": "text/x-python",
   "name": "python",
   "nbconvert_exporter": "python",
   "pygments_lexer": "ipython3",
   "version": "3.7.4"
  }
 },
 "nbformat": 4,
 "nbformat_minor": 2
}
